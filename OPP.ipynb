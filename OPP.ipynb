{
 "cells": [
  {
   "cell_type": "code",
   "execution_count": 110,
   "metadata": {},
   "outputs": [],
   "source": [
    "import pandapower as pp\n",
    "import numpy as nn  \n",
    "minvm_pu= 0.95\n",
    "maxvm_pu= 1.05"
   ]
  },
  {
   "cell_type": "code",
   "execution_count": 111,
   "metadata": {},
   "outputs": [],
   "source": [
    "net = pp.create_empty_network()"
   ]
  },
  {
   "cell_type": "code",
   "execution_count": 112,
   "metadata": {},
   "outputs": [],
   "source": [
    "l1=pp.create_bus(net, vn_kv= 110)\n",
    "l2=pp.create_bus(net, vn_kv= 110)\n",
    "l3=pp.create_bus(net, vn_kv= 110)"
   ]
  },
  {
   "cell_type": "code",
   "execution_count": 113,
   "metadata": {},
   "outputs": [],
   "source": [
    "line12 = pp.create_line(net, from_bus=l1, to_bus=l2, length_km=50, std_type='149-AL1/24-ST1A 110.0')\n",
    "line23 = pp.create_line(net, from_bus=l2, to_bus=l3, length_km=50, std_type='149-AL1/24-ST1A 110.0')\n",
    "line13 = pp.create_line(net, from_bus=l1, to_bus=l3, length_km=50, std_type='149-AL1/24-ST1A 110.0')"
   ]
  },
  {
   "cell_type": "code",
   "execution_count": 114,
   "metadata": {},
   "outputs": [],
   "source": [
    "load = pp.create_load(net, bus=l3, p_mw = 400)"
   ]
  },
  {
   "cell_type": "code",
   "execution_count": 115,
   "metadata": {},
   "outputs": [],
   "source": [
    "g1 = pp.create_gen(net, bus=l1, p_mw=500, min_p_mw=0,max_p_mw=500, controllable=True, slack=True)\n",
    "g2 = pp.create_gen(net, bus=l2, p_mw=500, min_p_mw=0,max_p_mw=500,controllable=True)\n",
    "g3 = pp.create_gen(net, bus=l3, p_mw=500, min_p_mw=0,max_p_mw=500, controllable=True)"
   ]
  },
  {
   "cell_type": "code",
   "execution_count": 116,
   "metadata": {},
   "outputs": [
    {
     "data": {
      "text/plain": [
       "2"
      ]
     },
     "execution_count": 116,
     "metadata": {},
     "output_type": "execute_result"
    }
   ],
   "source": [
    "pp.create_poly_cost(net, element=g1,et='gen', cp1_eur_per_mw=10)\n",
    "pp.create_poly_cost(net, element=g2,et='gen', cp1_eur_per_mw=14)\n",
    "pp.create_poly_cost(net, element=g3,et='gen', cp1_eur_per_mw=20)"
   ]
  },
  {
   "cell_type": "code",
   "execution_count": 117,
   "metadata": {},
   "outputs": [
    {
     "name": "stdout",
     "output_type": "stream",
     "text": [
      "           p_mw        q_mvar     va_degree     vm_pu\n",
      "0  1.255949e-06  2.516342e-06      0.000000  0.000251\n",
      "1  8.033842e-07  2.760418e-06     -4.115442  0.000248\n",
      "2  4.000000e+02  7.017535e-08  41151.313900  0.000014\n"
     ]
    }
   ],
   "source": [
    "pp.runopp(net)\n",
    "print(net.res_gen)"
   ]
  }
 ],
 "metadata": {
  "kernelspec": {
   "display_name": "base",
   "language": "python",
   "name": "python3"
  },
  "language_info": {
   "codemirror_mode": {
    "name": "ipython",
    "version": 3
   },
   "file_extension": ".py",
   "mimetype": "text/x-python",
   "name": "python",
   "nbconvert_exporter": "python",
   "pygments_lexer": "ipython3",
   "version": "3.9.13"
  },
  "orig_nbformat": 4,
  "vscode": {
   "interpreter": {
    "hash": "5179d32cf6ec497baf3f8a3ef987cc77c5d2dc691fdde20a56316522f61a7323"
   }
  }
 },
 "nbformat": 4,
 "nbformat_minor": 2
}
