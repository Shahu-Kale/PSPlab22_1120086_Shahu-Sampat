{
 "cells": [
  {
   "cell_type": "code",
   "execution_count": 114,
   "metadata": {},
   "outputs": [],
   "source": [
    "import pandapower as pp\n",
    "net = pp.create_empty_network(sn_mva=100, f_hz=50) \n",
    "\n",
    "bus0 = pp.create_bus(net, name=\"Gen bus\", vn_kv=22, type=\"n\")\n",
    "bus1 = pp.create_bus(net, name=\"XmerT1&T3 bus1\", vn_kv= 22, type =\"b\") \n",
    "bus2 = pp.create_bus(net, name=\"XmerT2&T4 bus2\", vn_kv = 11, type =\"b\") \n",
    "bus3 = pp.create_bus(net, name=\"XmerT1 bus2\", vn_kv = 220,type =\"b\")\n",
    "bus4 = pp.create_bus(net, name=\"XmerT2 bus1\", vn_kv = 220, type =\"b\")\n",
    "bus5 = pp.create_bus(net, name=\"XmerT3 bus2\", vn_kv= 110, type = \"b\")\n",
    "bus6 = pp.create_bus(net, name=\"XmerT4 bus1\", vn_kv= 110, type = \"b\")\n",
    "\n",
    "\n",
    "pp.create_ext_grid(net, bus0, name=\"Generator\", in_service=\"True\")\n",
    "\n",
    "pp.create_load_from_cosphi(net, bus2, sn_mva=57, cos_phi=0.6,mode=\"underexcited\", const_z_percent = 100)\n",
    "\n",
    "pp.create_impedance(net, from_bus=0, to_bus=1, rft_pu=0, xft_pu=0.18, sn_mva=90)\n",
    "\n",
    "\n",
    "pp.create_line_from_parameters(net, from_bus=3, to_bus=4, length_km=1, r_ohm_per_km=0, x_ohm_per_km=48.4, c_nf_per_km=0, max_i_ka=0.262)\n",
    "pp.create_line_from_parameters(net, from_bus=5, to_bus=6, length_km=1, r_ohm_per_km=0, x_ohm_per_km=65.43, c_nf_per_km=0, max_i_ka=0.524)\n",
    "\n",
    "\n",
    "\n",
    "trafo1 = pp.create_transformer_from_parameters(net, hv_bus=1, lv_bus=3, sn_mva=50, vn_hv_kv=22, vn_lv_kv=220, vkr_percent=0, vk_percent=10, pfe_kw=0, i0_percent=0, name=\"T1 Xmer\")\n",
    "trafo2 = pp.create_transformer_from_parameters(net, hv_bus=4, lv_bus=2, sn_mva=40, vn_hv_kv=220, vn_lv_kv=11, vkr_percent=0, vk_percent=6, pfe_kw=0, i0_percent=0, name=\"T2 Xmer\")\n",
    "trafo3 = pp.create_transformer_from_parameters(net, hv_bus=1, lv_bus=5, sn_mva=40, vn_hv_kv=22, vn_lv_kv=110, vkr_percent=0, vk_percent=6.4, pfe_kw=0, i0_percent=0, name=\"T3 Xmer\")\n",
    "trafo4 = pp.create_transformer_from_parameters(net, hv_bus=6, lv_bus=2, sn_mva=40, vn_hv_kv=110, vn_lv_kv=11, vkr_percent=0, vk_percent=8, pfe_kw=0, i0_percent=0, name=\"T4 Xmer\")\n",
    "\n",
    "pp.runpp(net, max_iteration=100, numba=False)"
   ]
  },
  {
   "cell_type": "code",
   "execution_count": 115,
   "metadata": {},
   "outputs": [
    {
     "data": {
      "text/html": [
       "<div>\n",
       "<style scoped>\n",
       "    .dataframe tbody tr th:only-of-type {\n",
       "        vertical-align: middle;\n",
       "    }\n",
       "\n",
       "    .dataframe tbody tr th {\n",
       "        vertical-align: top;\n",
       "    }\n",
       "\n",
       "    .dataframe thead th {\n",
       "        text-align: right;\n",
       "    }\n",
       "</style>\n",
       "<table border=\"1\" class=\"dataframe\">\n",
       "  <thead>\n",
       "    <tr style=\"text-align: right;\">\n",
       "      <th></th>\n",
       "      <th>vm_pu</th>\n",
       "      <th>va_degree</th>\n",
       "      <th>p_mw</th>\n",
       "      <th>q_mvar</th>\n",
       "    </tr>\n",
       "  </thead>\n",
       "  <tbody>\n",
       "    <tr>\n",
       "      <th>0</th>\n",
       "      <td>1.000000</td>\n",
       "      <td>0.000000</td>\n",
       "      <td>-22.246404</td>\n",
       "      <td>-40.230659</td>\n",
       "    </tr>\n",
       "    <tr>\n",
       "      <th>1</th>\n",
       "      <td>0.920614</td>\n",
       "      <td>-2.770154</td>\n",
       "      <td>0.000000</td>\n",
       "      <td>0.000000</td>\n",
       "    </tr>\n",
       "    <tr>\n",
       "      <th>2</th>\n",
       "      <td>0.806523</td>\n",
       "      <td>-7.928559</td>\n",
       "      <td>22.246403</td>\n",
       "      <td>29.661871</td>\n",
       "    </tr>\n",
       "    <tr>\n",
       "      <th>3</th>\n",
       "      <td>0.869053</td>\n",
       "      <td>-4.895434</td>\n",
       "      <td>0.000000</td>\n",
       "      <td>0.000000</td>\n",
       "    </tr>\n",
       "    <tr>\n",
       "      <th>4</th>\n",
       "      <td>0.843762</td>\n",
       "      <td>-6.054675</td>\n",
       "      <td>0.000000</td>\n",
       "      <td>0.000000</td>\n",
       "    </tr>\n",
       "    <tr>\n",
       "      <th>5</th>\n",
       "      <td>0.899860</td>\n",
       "      <td>-3.590324</td>\n",
       "      <td>0.000000</td>\n",
       "      <td>0.000000</td>\n",
       "    </tr>\n",
       "    <tr>\n",
       "      <th>6</th>\n",
       "      <td>0.831231</td>\n",
       "      <td>-6.661641</td>\n",
       "      <td>0.000000</td>\n",
       "      <td>0.000000</td>\n",
       "    </tr>\n",
       "  </tbody>\n",
       "</table>\n",
       "</div>"
      ],
      "text/plain": [
       "      vm_pu  va_degree       p_mw     q_mvar\n",
       "0  1.000000   0.000000 -22.246404 -40.230659\n",
       "1  0.920614  -2.770154   0.000000   0.000000\n",
       "2  0.806523  -7.928559  22.246403  29.661871\n",
       "3  0.869053  -4.895434   0.000000   0.000000\n",
       "4  0.843762  -6.054675   0.000000   0.000000\n",
       "5  0.899860  -3.590324   0.000000   0.000000\n",
       "6  0.831231  -6.661641   0.000000   0.000000"
      ]
     },
     "execution_count": 115,
     "metadata": {},
     "output_type": "execute_result"
    }
   ],
   "source": [
    "net.res_bus"
   ]
  }
 ],
 "metadata": {
  "kernelspec": {
   "display_name": "Python 3.9.13 ('base')",
   "language": "python",
   "name": "python3"
  },
  "language_info": {
   "codemirror_mode": {
    "name": "ipython",
    "version": 3
   },
   "file_extension": ".py",
   "mimetype": "text/x-python",
   "name": "python",
   "nbconvert_exporter": "python",
   "pygments_lexer": "ipython3",
   "version": "3.9.13"
  },
  "orig_nbformat": 4,
  "vscode": {
   "interpreter": {
    "hash": "5179d32cf6ec497baf3f8a3ef987cc77c5d2dc691fdde20a56316522f61a7323"
   }
  }
 },
 "nbformat": 4,
 "nbformat_minor": 2
}
